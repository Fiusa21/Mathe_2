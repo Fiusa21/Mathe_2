{
 "cells": [
  {
   "cell_type": "markdown",
   "id": "e98f5db7-dc36-40c3-aac0-5c3774c6f5a5",
   "metadata": {},
   "source": [
    "## DGL mit Sympy lösen"
   ]
  },
  {
   "cell_type": "markdown",
   "id": "61ba3850-38ea-429d-b943-9419c7b24bca",
   "metadata": {},
   "source": [
    "<div class=\"alert alert-block alert-warning\">\n",
    "    \n",
    "<b>Example 1</b>\n",
    "\n",
    "Let us consider the ordinary differential equation\n",
    "    \n",
    "$$\n",
    "    y'(x) + \\frac{y(x)}{x} = \\frac{2}{1 + x^2} \\, .\n",
    "$$  \n",
    "</div>"
   ]
  },
  {
   "cell_type": "code",
   "execution_count": 1,
   "id": "88afdc70-ad3c-4bca-9493-e12caa41cc9a",
   "metadata": {},
   "outputs": [
    {
     "data": {
      "image/png": "[encoded data removed]",
      "text/latex": [
       "$\\displaystyle y{\\left(x \\right)} = \\frac{C_{1} + \\log{\\left(x^{2} + 1 \\right)}}{x}$"
      ],
      "text/plain": [
       "               ⎛ 2    ⎞\n",
       "       C₁ + log⎝x  + 1⎠\n",
       "y(x) = ────────────────\n",
       "              x        "
      ]
     },
     "execution_count": 1,
     "metadata": {},
     "output_type": "execute_result"
    }
   ],
   "source": [
    "import sympy as sp\n",
    "sp.init_printing()\n",
    "\n",
    "x = sp.Symbol('x')\n",
    "y = sp.Function('y')(x)\n",
    "\n",
    "yp = sp.Derivative(y)\n",
    "ode = sp.Eq(yp+y/x,2/(1+x**2))\n",
    "sp.dsolve(ode)"
   ]
  },
  {
   "cell_type": "markdown",
   "id": "3a7df11d-53ac-4454-87fc-828876b4374b",
   "metadata": {},
   "source": [
    "<div class=\"alert alert-block alert-warning\">\n",
    "    \n",
    "<b>Example 2</b>    \n",
    "    \n",
    "$$\n",
    "    y''(x) + 2 \\, y'(x) + 2 \\, y(x) = 0 \\, .\n",
    "$$\n",
    "</div>"
   ]
  },
  {
   "cell_type": "code",
   "execution_count": 2,
   "id": "6a776c1a-5bf4-4406-b419-4daffb147944",
   "metadata": {},
   "outputs": [
    {
     "data": {
      "image/png": "[encoded data removed]",
      "text/latex": [
       "$\\displaystyle x{\\left(t \\right)} = \\left(C_{1} \\sin{\\left(t \\right)} + C_{2} \\cos{\\left(t \\right)}\\right) e^{- t}$"
      ],
      "text/plain": [
       "                                -t\n",
       "x(t) = (C₁⋅sin(t) + C₂⋅cos(t))⋅ℯ  "
      ]
     },
     "execution_count": 2,
     "metadata": {},
     "output_type": "execute_result"
    }
   ],
   "source": [
    "t = sp.symbols('t')\n",
    "x = sp.Function('x')(t)\n",
    "xp = sp.Derivative(x)\n",
    "xpp = sp.Derivative(xp)\n",
    "ode = sp.Eq(xpp + 2*xp + 2*x,0)\n",
    "sp.dsolve(ode)"
   ]
  },
  {
   "cell_type": "markdown",
   "id": "7156e515-660c-4763-a56f-6c82d47d9e47",
   "metadata": {},
   "source": [
    "## DGL mit Parametern\n",
    "\n",
    "<div class=\"alert alert-block alert-warning\">\n",
    "    \n",
    "<b>Example</b>\n",
    "\n",
    "The differential equation of an oscillation can be formulated by\n",
    "    \n",
    "$$\n",
    "    \\ddot{x}(t) + 2 \\, \\delta \\, \\dot{x}(t) + \\omega_0^2 \\, x(t) = 0 \\, .\n",
    "$$  \n",
    "</div>"
   ]
  },
  {
   "cell_type": "code",
   "execution_count": 24,
   "id": "ed2849d1-c470-4bc7-817f-40dfbe2abdec",
   "metadata": {},
   "outputs": [
    {
     "data": {
      "image/png": "[encoded data removed]",
      "text/latex": [
       "$\\displaystyle x{\\left(t \\right)} = C_{1} e^{t \\left(- \\delta + \\sqrt{\\delta^{2} - \\omega_{0}^{2}}\\right)} + C_{2} e^{- t \\left(\\delta + \\sqrt{\\delta^{2} - \\omega_{0}^{2}}\\right)}$"
      ],
      "text/plain": [
       "             ⎛        __________⎞          ⎛       __________⎞\n",
       "             ⎜       ╱  2     2 ⎟          ⎜      ╱  2     2 ⎟\n",
       "           t⋅⎝-δ + ╲╱  δ  - ω₀  ⎠       -t⋅⎝δ + ╲╱  δ  - ω₀  ⎠\n",
       "x(t) = C₁⋅ℯ                       + C₂⋅ℯ                      "
      ]
     },
     "execution_count": 24,
     "metadata": {},
     "output_type": "execute_result"
    }
   ],
   "source": [
    "t, delta, omega_0 = sp.symbols('t, delta, omega_0')\n",
    "x = sp.Function('x')(t)\n",
    "xp = sp.Derivative(x)\n",
    "xpp = sp.Derivative(xp)\n",
    "ode = sp.Eq(xpp+2*delta*xp+omega_0**2*x,0)\n",
    "sp.dsolve(ode)\n"
   ]
  },
  {
   "cell_type": "markdown",
   "id": "0b9e6222-de49-44e5-b3e4-8e97ebc1d1cf",
   "metadata": {},
   "source": [
    "## Anfangswert-Problem\n",
    "\n",
    "<div class=\"alert alert-block alert-warning\">\n",
    "    \n",
    "<b>Example 1</b>\n",
    "\n",
    "Let us consider the initial value problem\n",
    "    \n",
    "$$\n",
    "    \\ddot{x}(t) + 2 \\, \\dot{x}(t) - 3 \\, x(t) = 2 \\, \\sin(t),  \\quad x(0) = 0, \\, \\dot{x}(0) = 1 \\, .\n",
    "$$  \n",
    "</div>"
   ]
  },
  {
   "cell_type": "code",
   "execution_count": 19,
   "id": "4cda680b-4a50-4758-9f1f-66b85ca025f1",
   "metadata": {},
   "outputs": [
    {
     "name": "stdout",
     "output_type": "stream",
     "text": [
      "Homogene Lösung:\n"
     ]
    },
    {
     "data": {
      "image/png": "[encoded data removed]",
      "text/latex": [
       "$\\displaystyle x{\\left(t \\right)} = C_{1} e^{- 3 t} + C_{2} e^{t}$"
      ],
      "text/plain": [
       "           -3⋅t       t\n",
       "x(t) = C₁⋅ℯ     + C₂⋅ℯ "
      ]
     },
     "execution_count": 19,
     "metadata": {},
     "output_type": "execute_result"
    }
   ],
   "source": [
    "import sympy as sp\n",
    "\n",
    "t = sp.Symbol('t')\n",
    "x = sp.Function('x')(t)\n",
    "xp = sp.Derivative(x, t) #1. Ableitung\n",
    "xpp = sp.Derivative(x, t, t) #2. Ableitung\n",
    "\n",
    "# Differentialgleichung\n",
    "ode = sp.Eq(xpp + 2*xp - 3*x, 2*sp.sin(t))\n",
    "ode\n",
    "# Anfangsbedingungen\n",
    "initconds = {x.subs(t, 0): 0, xp.subs(t, 0): 1}\n",
    "\n",
    "# Differentialgleichung lösen\n",
    "sol = sp.dsolve(ode, ics=initconds)\n",
    "\n",
    "# Homogene Lösung\n",
    "homogeneous_solution = sp.dsolve(xpp + 2*xp - 3*x, x)\n",
    "print(\"Homogene Lösung:\")\n",
    "homogeneous_solution"
   ]
  },
  {
   "cell_type": "code",
   "execution_count": 20,
   "id": "240d9cb3-e620-41cd-8f21-77e7b3618045",
   "metadata": {},
   "outputs": [
    {
     "name": "stdout",
     "output_type": "stream",
     "text": [
      "\n",
      "Inhomogene Lösung:\n"
     ]
    },
    {
     "data": {
      "image/png": "[encoded data removed]",
      "text/latex": [
       "$\\displaystyle - C_{1} e^{- 3 t} - C_{2} e^{t} + \\frac{e^{t}}{2} - \\frac{2 \\sin{\\left(t \\right)}}{5} - \\frac{\\cos{\\left(t \\right)}}{5} - \\frac{3 e^{- 3 t}}{10}$"
      ],
      "text/plain": [
       "                      t                          -3⋅t\n",
       "      -3⋅t       t   ℯ    2⋅sin(t)   cos(t)   3⋅ℯ    \n",
       "- C₁⋅ℯ     - C₂⋅ℯ  + ── - ──────── - ────── - ───────\n",
       "                     2       5         5         10  "
      ]
     },
     "execution_count": 20,
     "metadata": {},
     "output_type": "execute_result"
    }
   ],
   "source": [
    "# Inhomogene Lösung\n",
    "inhomogeneous_solution = sol.rhs - homogeneous_solution.rhs\n",
    "print(\"\\nInhomogene Lösung:\")\n",
    "inhomogeneous_solution"
   ]
  },
  {
   "cell_type": "code",
   "execution_count": 21,
   "id": "e0e5ab53-850a-4677-8c47-f9b8ee0de8c4",
   "metadata": {},
   "outputs": [
    {
     "name": "stdout",
     "output_type": "stream",
     "text": [
      "\n",
      "Gesamtlösung:\n"
     ]
    },
    {
     "data": {
      "image/png": "[encoded data removed]",
      "text/latex": [
       "$\\displaystyle x{\\left(t \\right)} = \\frac{e^{t}}{2} - \\frac{2 \\sin{\\left(t \\right)}}{5} - \\frac{\\cos{\\left(t \\right)}}{5} - \\frac{3 e^{- 3 t}}{10}$"
      ],
      "text/plain": [
       "        t                          -3⋅t\n",
       "       ℯ    2⋅sin(t)   cos(t)   3⋅ℯ    \n",
       "x(t) = ── - ──────── - ────── - ───────\n",
       "       2       5         5         10  "
      ]
     },
     "execution_count": 21,
     "metadata": {},
     "output_type": "execute_result"
    }
   ],
   "source": [
    "# Gesamtlösung\n",
    "print(\"\\nGesamtlösung:\")\n",
    "sol"
   ]
  },
  {
   "cell_type": "code",
   "execution_count": 22,
   "id": "320ed841-7f55-472e-985d-f8023ae8d5c6",
   "metadata": {},
   "outputs": [
    {
     "data": {
      "image/png": "[encoded data removed]",
      "text/plain": [
       "<Figure size 640x480 with 1 Axes>"
      ]
     },
     "metadata": {},
     "output_type": "display_data"
    },
    {
     "data": {
      "image/png": "[encoded data removed]",
      "text/latex": [
       "$\\displaystyle 0.899555938622377$"
      ],
      "text/plain": [
       "0.8995559386223767"
      ]
     },
     "execution_count": 22,
     "metadata": {},
     "output_type": "execute_result"
    }
   ],
   "source": [
    "#plot it\n",
    "sp.plot(sol.rhs,(t,0.0,3.0))\n",
    "x = sp.lambdify(t,sol.rhs)\n",
    "x(1.0)"
   ]
  },
  {
   "cell_type": "markdown",
   "id": "6efd6786-b866-4cd3-ba9d-d92a5eb15b3e",
   "metadata": {},
   "source": [
    "<div class=\"alert alert-block alert-warning\">\n",
    "    \n",
    "<b>Example 2</b>\n",
    "\n",
    "Radioactive decay, with decay rate $\\lambda$, can be desribed by the initial value problem\n",
    "\n",
    "$$\n",
    "\\frac{\\dot{N}(t)}{ N(t)} = -\\lambda, \\quad N(0) = N_0.\n",
    "$$\n",
    "    \n",
    "Calculate the solution with SymPy.\n",
    "</div>"
   ]
  },
  {
   "cell_type": "code",
   "execution_count": 7,
   "id": "344f806e-0407-4178-8eb5-d314f00122ad",
   "metadata": {},
   "outputs": [
    {
     "data": {
      "image/png": "[encoded data removed]",
      "text/latex": [
       "$\\displaystyle N{\\left(t \\right)} = C_{1} e^{- \\lambda t}$"
      ],
      "text/plain": [
       "           -λ⋅t\n",
       "N(t) = C₁⋅ℯ    "
      ]
     },
     "metadata": {},
     "output_type": "display_data"
    }
   ],
   "source": [
    "# Step 2: Define symbols and variables\n",
    "t = sp.symbols('t')\n",
    "N = sp.Function('N')(t)\n",
    "N0, lmbda = sp.symbols('N0 lambda', real=True, positive=True)\n",
    "\n",
    "# Step 3: Define the differential equation\n",
    "ode = sp.Eq(sp.Derivative(N, t)/N, -lmbda)\n",
    "\n",
    "# Step 4: Solve the differential equation\n",
    "solution = sp.dsolve(ode)\n",
    "\n",
    "# Step 5: Substitute the initial condition\n",
    "conds = solution.subs({N.subs(t, 0): N0})\n",
    "\n",
    "# Step 6: Display the solution\n",
    "display(conds)\n"
   ]
  },
  {
   "cell_type": "code",
   "execution_count": null,
   "id": "01ffc3ab-0a5c-40d6-af29-0d1851342750",
   "metadata": {},
   "outputs": [],
   "source": []
  }
 ],
 "metadata": {
  "kernelspec": {
   "display_name": "Python 3 (ipykernel)",
   "language": "python",
   "name": "python3"
  },
  "language_info": {
   "codemirror_mode": {
    "name": "ipython",
    "version": 3
   },
   "file_extension": ".py",
   "mimetype": "text/x-python",
   "name": "python",
   "nbconvert_exporter": "python",
   "pygments_lexer": "ipython3",
   "version": "3.11.7"
  }
 },
 "nbformat": 4,
 "nbformat_minor": 5
}

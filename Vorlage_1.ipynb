{
 "cells": [
  {
   "cell_type": "markdown",
   "id": "2e07a8ce-5227-4d69-8e18-cd3cf6c8a23b",
   "metadata": {},
   "source": [
    "BASISGRID"
   ]
  },
  {
   "cell_type": "code",
   "execution_count": 11,
   "id": "ffe480c8-6666-4d5c-865f-b767d8eb28e1",
   "metadata": {},
   "outputs": [
    {
     "data": {
      "image/png": "[encoded data removed]",
      "text/plain": [
       "<Figure size 650x350 with 1 Axes>"
      ]
     },
     "metadata": {},
     "output_type": "display_data"
    }
   ],
   "source": [
    "#BASISGRID\n",
    "import numpy as np\n",
    "import matplotlib.pyplot as plt\n",
    "\n",
    "#Grid Dimensionen\n",
    "x_min, x_max, y_min, y_max = 0, 6.5, -1, 2.5\n",
    "fig, ax = plt.subplots(figsize=((x_max-x_min),(y_max-y_min)))\n",
    "ax.set_aspect('equal')\n",
    "#Dimensionen den Achsen zuweisen\n",
    "ax.axis([x_min,x_max,y_min,y_max])\n",
    "\n",
    "#Schritte der Achsen\n",
    "x_ticks = np.arange(x_min,x_max+0.5)\n",
    "ax.set_xticks(x_ticks)\n",
    "y_ticks = np.arange(y_min,y_max+0.5)\n",
    "ax.set_yticks(y_ticks)\n",
    "\n",
    "\n",
    "#Zusätzliche dünne Linien\n",
    "ax.set_xticks(np.arange(x_min,x_max+0.5, 0.5),minor=True)\n",
    "ax.set_yticks(np.arange(y_min,y_max+0.5, 0.5),minor=True)\n",
    "ax.grid(which='minor', alpha=0.2)\n",
    "ax.grid(which='major', alpha=1)\n",
    "ax.grid(True)"
   ]
  },
  {
   "cell_type": "code",
   "execution_count": null,
   "id": "16b277f1-b2cf-4b99-9679-fff5c0220c8c",
   "metadata": {},
   "outputs": [],
   "source": [
    "BASIS POLYNOM"
   ]
  },
  {
   "cell_type": "code",
   "execution_count": 15,
   "id": "a1fed1a2-1d7d-401d-a49f-22ec3e9c23bd",
   "metadata": {},
   "outputs": [
    {
     "data": {
      "image/png": "[encoded data removed]",
      "text/plain": [
       "<Figure size 650x350 with 1 Axes>"
      ]
     },
     "metadata": {},
     "output_type": "display_data"
    }
   ],
   "source": [
    "#BASIS POLYNOME\n",
    "#Gegebene Punkte\n",
    "points = [(1, 0), (2, 0), (3, 1), (4, 0), (5, 0)]\n",
    "\n",
    "# Aufstellen des linearen Gleichungssystems (Grad 4 bis hoch 4)\n",
    "A = np.array([[1**0, 1**1, 1**2, 1**3, 1**4], [2**0, 2**1, 2**2, 2**3, 2**4], [3**0, 3**1, 3**2, 3**3, 3**4], [4**0, 4**1, 4**2, 4**3, 4**4], [5**0, 5**1, 5**2, 5**3, 5**4]])\n",
    "b = np.array([0, 0, 1, 0, 0])\n",
    "\n",
    "# Lösen des Gleichungssystems\n",
    "coefficients = np.linalg.solve(A, b)\n",
    "\n",
    "# Extrahieren der Koeffizienten\n",
    "a0 = coefficients[0]\n",
    "a1 = coefficients[1]\n",
    "a2 = coefficients[2]\n",
    "a3 = coefficients[3]\n",
    "a4 = coefficients[4]\n",
    "\n",
    "# Polynomfunktion erstellen\n",
    "poly_func = np.poly1d([a4, a3, a2, a1, a0])\n",
    "\n",
    "# Werte für x generieren\n",
    "x3_values = np.linspace(-16, 15, 1000)#wichtig für genauigkeit\n",
    "\n",
    "# Werte für y berechnen\n",
    "y3_values = poly_func(x3_values)\n",
    "\n",
    "#Plotten\n",
    "ax.plot(x3_values, y3_values, color='blue')\n",
    "\n",
    "#Punkte markieren\n",
    "x_values, y_values = zip(*points)\n",
    "ax.scatter(x_values, y_values, color='red', marker='*')\n",
    "\n",
    "#Alternativ\n",
    "display(fig)"
   ]
  },
  {
   "cell_type": "code",
   "execution_count": null,
   "id": "573c2722-670c-4116-b7e5-b5b9fd50c2ca",
   "metadata": {},
   "outputs": [],
   "source": [
    "BASIS GERADEN"
   ]
  },
  {
   "cell_type": "code",
   "execution_count": 17,
   "id": "d18cbe17-c5a9-4805-aa6b-b7179d678aee",
   "metadata": {},
   "outputs": [
    {
     "data": {
      "text/plain": [
       "[<matplotlib.lines.Line2D at 0x21775076a90>]"
      ]
     },
     "execution_count": 17,
     "metadata": {},
     "output_type": "execute_result"
    }
   ],
   "source": [
    "#BASIS GERADEN\n",
    "x = ([-2, 2,np.nan, -3, 0, 0, 3])\n",
    "y = ([0, 0, np.nan, -3, 6, 6, -3])\n",
    "ax.plot(x, y, color='black')\n",
    "\n"
   ]
  },
  {
   "cell_type": "code",
   "execution_count": null,
   "id": "18143bc9-7166-46c5-94be-ab8665f2b1fd",
   "metadata": {},
   "outputs": [],
   "source": [
    "ROTATION DER GERADEN"
   ]
  },
  {
   "cell_type": "code",
   "execution_count": 21,
   "id": "4af655a6-4bb8-477e-b6b5-ae57d3089d7b",
   "metadata": {},
   "outputs": [
    {
     "data": {
      "text/plain": [
       "[<matplotlib.lines.Line2D at 0x21774d270d0>]"
      ]
     },
     "execution_count": 21,
     "metadata": {},
     "output_type": "execute_result"
    }
   ],
   "source": [
    "#ROTIERE ORIGINAL GERADEN\n",
    "# Definiere den Rotationswinkel in Grad\n",
    "alpha = 20\n",
    "# Wandle den Rotationswinkel in Bogenmaß um\n",
    "alpha_rad = np.radians(alpha)\n",
    "\n",
    "# Definiere die Rotationsmatrix\n",
    "R = np.array([[np.cos(alpha_rad), -np.sin(alpha_rad)],\n",
    "              [np.sin(alpha_rad), np.cos(alpha_rad)]])\n",
    "\n",
    "# Basis Geraden\n",
    "x1 = np.array([-2, 2, np.nan, -3, 0, 0, 3])\n",
    "y1 = np.array([0, 0, np.nan, -3, 6, 6, -3])\n",
    "\n",
    "# Ursprüngliche Koordinaten der Grafik\n",
    "XY1 = np.array([x1, y1])\n",
    "\n",
    "# Rotiere die Koordinaten der Grafik\n",
    "rotated_XY1 = np.dot(R, XY1)\n",
    "\n",
    "# getrennte x- und y-Koordinaten extrahieren\n",
    "rotated_x1, rotated_y1 = rotated_XY1[0], rotated_XY1[1]\n",
    "\n",
    "# Rotated lines\n",
    "ax.plot(rotated_x1, rotated_y1, color='red')\n"
   ]
  },
  {
   "cell_type": "code",
   "execution_count": null,
   "id": "3507723f-4dc5-4f3d-9d7e-8653385e28ae",
   "metadata": {},
   "outputs": [],
   "source": [
    "#ROTIERE ORIGINAL FUNKTION\n",
    "# Definiere den Rotationswinkel in Grad\n",
    "alpha = 20\n",
    "# Wandle den Rotationswinkel in Bogenmaß um\n",
    "alpha_rad = np.radians(alpha)\n",
    "\n",
    "# Definiere die Rotationsmatrix\n",
    "R = np.array([[np.cos(alpha_rad), -np.sin(alpha_rad)],\n",
    "              [np.sin(alpha_rad), np.cos(alpha_rad)]])\n",
    "\n",
    "# Ursprüngliche Koordinaten der Grafik\n",
    "XY1 = np.array([x3_values, y3_values])\n",
    "\n",
    "# Rotiere die Koordinaten der Grafik\n",
    "rotated_XY1 = np.dot(R, XY1)\n",
    "\n",
    "# getrennte x- und y-Koordinaten extrahieren\n",
    "rotated_x1, rotated_y1 = rotated_XY1[0], rotated_XY1[1]\n",
    "\n",
    "# Rotated lines\n",
    "ax.plot(rotated_x1, rotated_y1, color='red')"
   ]
  },
  {
   "cell_type": "code",
   "execution_count": null,
   "id": "b67e32a7-83e8-43f7-8e18-426e0d5c808b",
   "metadata": {},
   "outputs": [],
   "source": [
    "KREISFUNKTIONEN"
   ]
  },
  {
   "cell_type": "code",
   "execution_count": null,
   "id": "4b64d43a-b97f-45f7-8a97-6cdd773c072b",
   "metadata": {},
   "outputs": [],
   "source": [
    "#BASIS SIN COS FUNKTION (KREISE o.ä.)\n",
    "# Kreisparameter\n",
    "#hier evtl. radius\n",
    "num_points = 1000  # Anzahl der Punkte zur Approximation des Kreises\n",
    "\n",
    "# Parameter t von 0 bis 8*pi (Je nach VOrgabe)\n",
    "t = np.linspace(0, 8*np.pi, num_points)\n",
    "\n",
    "# Berechnung der Kreispunkte mit der parametrischen Gleichung (Bei Kreisen radius*cos..)\n",
    "x2 = np.sqrt(t) * np.cos(t)\n",
    "y2 = np.sqrt(t) * np.sin(t)\n",
    "\n",
    "# Zeichnen der Kreise\n",
    "ax.plot(x2, y2, color = 'black')"
   ]
  }
 ],
 "metadata": {
  "kernelspec": {
   "display_name": "Python 3 (ipykernel)",
   "language": "python",
   "name": "python3"
  },
  "language_info": {
   "codemirror_mode": {
    "name": "ipython",
    "version": 3
   },
   "file_extension": ".py",
   "mimetype": "text/x-python",
   "name": "python",
   "nbconvert_exporter": "python",
   "pygments_lexer": "ipython3",
   "version": "3.11.7"
  }
 },
 "nbformat": 4,
 "nbformat_minor": 5
}
